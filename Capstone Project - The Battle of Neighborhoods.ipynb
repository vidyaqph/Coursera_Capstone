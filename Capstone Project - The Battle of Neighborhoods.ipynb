{
    "cells": [
        {
            "cell_type": "markdown",
            "metadata": {
                "collapsed": true
            },
            "source": "# Introduction"
        },
        {
            "cell_type": "markdown",
            "metadata": {},
            "source": "## Open a Restaurant in NewYork City"
        },
        {
            "cell_type": "markdown",
            "metadata": {},
            "source": "### Desciption of the problem and Background"
        },
        {
            "cell_type": "markdown",
            "metadata": {},
            "source": "New york City is most populous city in USA . It's full of life, art, grit, food and culture. Due to its diversity and dynamism , opening a restaurant in New York city really requires thorough analysis about the neighborhood and understand location and cuisine type. If a person starts a restaurant in a lonely place , there are rare chances that it may succeed. Similar will be the case if one starts a restaurant in a place where there are too many restaurants. Understanding the neighborhood will help to find a balance.  \nThis project helps to analyze the neighborhood of New York City and helps to  identify the best location to open up a new restaurant business. Understanding similar businesses in the area will help to understand the following.\n1. Understand the competitors - New York city is famous for its large variety of restaurants and food trucks. Its a highly competitive place and understanding the competitors is really helpful to identify whether similar business can be successful.\n2. Analyze Cusines - Analyzing the neighborhood will reveal the different cusiness available in the area. Also it helps to identify the expected customers. If there is a specific cusine which is predominant in an area, we can expect more demand for that type of food and vice versa. \n3. Analyze the crowd - Neighborhood analysis also reveals other types of business which are available in the area and helps to understand whether it is a crowded place or not."
        },
        {
            "cell_type": "markdown",
            "metadata": {},
            "source": "### Data"
        },
        {
            "cell_type": "markdown",
            "metadata": {},
            "source": "Dataset for the project will be  https://cf-courses-data.s3.us.cloud-object-storage.appdomain.cloud/IBMDeveloperSkillsNetwork-DS0701EN-SkillsNetwork/labs/newyork_data.json\nThis consists of 5 boroughs and 306 neighborhoods in New York City.\nGoal is to find the best location to start a restaurant in New York City. Foursquare API will be used to find restaurants and venues in the neighborhood.This dataset will be loaded and explored.\nLatitude and Longitude will be identified for the neighborhood which will be used to explore the nearby restaurants and popular places. Popular places depends on the time when the call is made.\nNeighboehood will be clustered using  k-means. Each cluster will be compared to find the best location."
        },
        {
            "cell_type": "code",
            "execution_count": null,
            "metadata": {},
            "outputs": [],
            "source": ""
        }
    ],
    "metadata": {
        "kernelspec": {
            "display_name": "Python 3.7",
            "language": "python",
            "name": "python3"
        },
        "language_info": {
            "codemirror_mode": {
                "name": "ipython",
                "version": 3
            },
            "file_extension": ".py",
            "mimetype": "text/x-python",
            "name": "python",
            "nbconvert_exporter": "python",
            "pygments_lexer": "ipython3",
            "version": "3.7.10"
        }
    },
    "nbformat": 4,
    "nbformat_minor": 1
}